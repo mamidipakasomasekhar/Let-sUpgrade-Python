{
 "cells": [
  {
   "cell_type": "code",
   "execution_count": null,
   "metadata": {},
   "outputs": [],
   "source": [
    "for i in range(1042000,702648265):\n",
    "    temp=i\n",
    "    count=0\n",
    "    sum=0\n",
    "    while(temp>0):\n",
    "        count+=1\n",
    "        temp=temp//10\n",
    "    temp=i\n",
    "    while(temp>0):\n",
    "        d=temp%10\n",
    "        sum+=d**3\n",
    "        temp=temp//10\n",
    "    if(i==sum):\n",
    "        print(i,'is an armstrong number')\n",
    "        break\n",
    "    else:\n",
    "        continue"
   ]
  },
  {
   "cell_type": "code",
   "execution_count": null,
   "metadata": {},
   "outputs": [],
   "source": []
  }
 ],
 "metadata": {
  "kernelspec": {
   "display_name": "Python 3",
   "language": "python",
   "name": "python3"
  },
  "language_info": {
   "codemirror_mode": {
    "name": "ipython",
    "version": 3
   },
   "file_extension": ".py",
   "mimetype": "text/x-python",
   "name": "python",
   "nbconvert_exporter": "python",
   "pygments_lexer": "ipython3",
   "version": "3.7.6"
  }
 },
 "nbformat": 4,
 "nbformat_minor": 4
}
