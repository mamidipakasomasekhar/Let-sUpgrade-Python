{
 "cells": [
  {
   "cell_type": "code",
   "execution_count": 20,
   "metadata": {},
   "outputs": [
    {
     "name": "stdout",
     "output_type": "stream",
     "text": [
      "Total balance after deposit:  7000\n",
      "Total balance after deposit:  10000\n",
      "Total balance after withdrawl: 4000\n",
      "Insufficient withdrawl amount present in the account\n"
     ]
    }
   ],
   "source": [
    "class bank_account():\n",
    "    def __init__(self,ownername,balance):\n",
    "        self.ownername=ownername\n",
    "        self.balance=balance\n",
    "    def deposit(self,amnt):\n",
    "        self.balance+=amnt\n",
    "        print('Total balance after deposit: ',self.balance)\n",
    "    def withdraw(self,amnt):\n",
    "        if amnt<=self.balance:\n",
    "            self.balance-=amnt\n",
    "            print('Total balance after withdrawl:',self.balance)\n",
    "        else:\n",
    "            print(\"Insufficient withdrawl amount present in the account\")\n",
    "a=bank_account('Soma',5000)\n",
    "a.deposit(2000)\n",
    "a.deposit(3000)\n",
    "a.withdraw(6000)\n",
    "a.withdraw(5000)\n",
    "\n",
    "\n",
    "    "
   ]
  },
  {
   "cell_type": "code",
   "execution_count": 29,
   "metadata": {},
   "outputs": [
    {
     "name": "stdout",
     "output_type": "stream",
     "text": [
      "volume of the cone: 261.90476190476187\n",
      "base: 78.57142857142857\n",
      "side: 175.69105537498348\n"
     ]
    }
   ],
   "source": [
    "class cone():\n",
    "    def __init__(self,radius,height):\n",
    "        self.radius=radius\n",
    "        self.height=height\n",
    "    def volume(self,r,h):\n",
    "        vol=(1/3)*(22/7)*(r**2)*h\n",
    "        print('volume of the cone:',vol)\n",
    "    def surface_area(self,r,h):\n",
    "        base=(22/7)*(r**2)\n",
    "        side=(22/7)*(r)*((r**2)+(h**2))**(1/2)\n",
    "        print('base:',base)\n",
    "        print('side:',side)\n",
    "c=cone(5,10)\n",
    "c.volume(5,10)\n",
    "c.surface_area(5,10)"
   ]
  },
  {
   "cell_type": "code",
   "execution_count": null,
   "metadata": {},
   "outputs": [],
   "source": []
  }
 ],
 "metadata": {
  "kernelspec": {
   "display_name": "Python 3",
   "language": "python",
   "name": "python3"
  },
  "language_info": {
   "codemirror_mode": {
    "name": "ipython",
    "version": 3
   },
   "file_extension": ".py",
   "mimetype": "text/x-python",
   "name": "python",
   "nbconvert_exporter": "python",
   "pygments_lexer": "ipython3",
   "version": "3.7.6"
  }
 },
 "nbformat": 4,
 "nbformat_minor": 4
}
