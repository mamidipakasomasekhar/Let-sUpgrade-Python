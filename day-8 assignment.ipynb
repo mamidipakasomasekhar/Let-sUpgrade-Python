{
 "cells": [
  {
   "cell_type": "code",
   "execution_count": 2,
   "metadata": {},
   "outputs": [
    {
     "name": "stdout",
     "output_type": "stream",
     "text": [
      "Fibonacci series\n",
      "Enter upper bound-5\n",
      "sum is:  3\n"
     ]
    }
   ],
   "source": [
    "def fibonacci_call(input_function):\n",
    "    def series():\n",
    "        print(\"Fibonacci series\")\n",
    "        a=int(input(\"Enter upper bound-\"))\n",
    "        input_function(a)\n",
    "    return series\n",
    "@fibonacci_call\n",
    "def finalresult(a):\n",
    "    k=0\n",
    "    p=1\n",
    "    if a>2:\n",
    "        for i in range(2,a):\n",
    "            t=k+p\n",
    "            k=p\n",
    "            p=t\n",
    "        print(\"sum is: \",t)\n",
    "finalresult()"
   ]
  },
  {
   "cell_type": "code",
   "execution_count": 3,
   "metadata": {},
   "outputs": [
    {
     "name": "stdout",
     "output_type": "stream",
     "text": [
      " Check the mode as it is not writable\n",
      "It will return any value irrespective of the program\n"
     ]
    }
   ],
   "source": [
    "try:\n",
    "    file=open('Assignment.txt','r')\n",
    "    file.write('Hi')\n",
    "    file.close()\n",
    "except Exception as e:\n",
    "    print(\" Check the mode as it is not writable\")\n",
    "finally:\n",
    "    print(\"It will return any value irrespective of the program\")\n",
    "    "
   ]
  },
  {
   "cell_type": "code",
   "execution_count": null,
   "metadata": {},
   "outputs": [],
   "source": []
  }
 ],
 "metadata": {
  "kernelspec": {
   "display_name": "Python 3",
   "language": "python",
   "name": "python3"
  },
  "language_info": {
   "codemirror_mode": {
    "name": "ipython",
    "version": 3
   },
   "file_extension": ".py",
   "mimetype": "text/x-python",
   "name": "python",
   "nbconvert_exporter": "python",
   "pygments_lexer": "ipython3",
   "version": "3.7.6"
  }
 },
 "nbformat": 4,
 "nbformat_minor": 4
}
